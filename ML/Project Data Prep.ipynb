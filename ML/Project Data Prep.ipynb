{
 "cells": [
  {
   "cell_type": "code",
   "execution_count": 1,
   "metadata": {},
   "outputs": [],
   "source": [
    "import sklearn\n",
    "import numpy as np\n",
    "import pandas as pd\n",
    "import os"
   ]
  },
  {
   "cell_type": "markdown",
   "metadata": {},
   "source": [
    "https://data.cityofnewyork.us/Housing-Development/NYC-Calendar-Sales-Archive-/uzf5-f8n2  <br>\n",
    "https://data.cityofnewyork.us/City-Government/NYC-Citywide-Annualized-Calendar-Sales-Update/w2pb-icbu"
   ]
  },
  {
   "cell_type": "markdown",
   "metadata": {},
   "source": [
    "## Combine all of the CSV files into one dataframe"
   ]
  },
  {
   "cell_type": "code",
   "execution_count": 2,
   "metadata": {},
   "outputs": [
    {
     "name": "stderr",
     "output_type": "stream",
     "text": [
      "C:\\Users\\Will\\anaconda3\\lib\\site-packages\\IPython\\core\\interactiveshell.py:3071: DtypeWarning: Columns (11,12,13) have mixed types.Specify dtype option on import or set low_memory=False.\n",
      "  has_raised = await self.run_ast_nodes(code_ast.body, cell_name,\n"
     ]
    }
   ],
   "source": [
    "folder_name = 'data'\n",
    "data_dir = os.path.join(os.getcwd(),folder_name)\n",
    "all_sales_df = pd.DataFrame() \n",
    "\n",
    "for file_name in os.listdir(data_dir):\n",
    "\n",
    "    if file_name[0:4] in ['2011','2012','2013','2014','2015']:\n",
    "        temp_frame = pd.read_excel(os.path.join(data_dir,file_name),header = 4)\n",
    "    elif file_name[0:3] == 'NYC':\n",
    "        temp_frame = pd.read_csv(os.path.join(data_dir,file_name),header = 0)\n",
    "        temp_frame = temp_frame.rename(columns = {'TAX CLASS AS OF FINAL ROLL':'TAX CLASS AT PRESENT','BUILDING CLASS AS OF FINAL ROLL':'BUILDING CLASS AT PRESENT'})\n",
    "        # temp_frame = temp_frame.rename(columns = {'EASE-MENT':'EASEMENT'})\n",
    "        #Dropping columns that only appear in most recent data\n",
    "        temp_frame = temp_frame.drop(columns = [\"Latitude\",\"Longitude\",\"Community Board\",\"Council District\",\"Census Tract\",\"BIN\",\"BBL\",\"NTA\"])\n",
    "    else:\n",
    "        temp_frame = pd.read_excel(os.path.join(data_dir,file_name),header = 3)\n",
    "    temp_frame.columns = temp_frame.columns.str.rstrip()\n",
    "    if all_sales_df.empty == True:\n",
    "        all_sales_df = temp_frame\n",
    "    else:\n",
    "        all_sales_df = all_sales_df.append(temp_frame)\n",
    "#Dropping EASEMENT as there are only 13 in half a million records\n",
    "#Dropping columns that aren't useful\n",
    "#Using Apartment number would be nice to determine unit location in building if we have time\n",
    "all_sales_df = all_sales_df.drop(columns = [\"ADDRESS\",\"TAX CLASS AT PRESENT\",\"BUILDING CLASS AT PRESENT\",\"LOT\",\"EASE-MENT\",\"APARTMENT NUMBER\"])\n",
    "#I need to reference this later so it cant have a space\n",
    "all_sales_df = all_sales_df.rename(columns = {\"SALE PRICE\":\"SALE_PRICE\",\"RESIDENTIAL UNITS\":\"RESIDENTIAL_UNITS\"})\n"
   ]
  },
  {
   "cell_type": "code",
   "execution_count": 3,
   "metadata": {},
   "outputs": [
    {
     "data": {
      "text/plain": [
       "(1599093, 15)"
      ]
     },
     "execution_count": 3,
     "metadata": {},
     "output_type": "execute_result"
    }
   ],
   "source": [
    "all_sales_df.shape"
   ]
  },
  {
   "cell_type": "code",
   "execution_count": 4,
   "metadata": {},
   "outputs": [],
   "source": [
    "#Removing incomplete records, almost all of the dropped records had no sales price\n",
    "all_sales_df = all_sales_df[all_sales_df.SALE_PRICE != 0]\n",
    "all_sales_df = all_sales_df.dropna()\n"
   ]
  },
  {
   "cell_type": "code",
   "execution_count": 5,
   "metadata": {},
   "outputs": [
    {
     "data": {
      "text/plain": [
       "(1199985, 15)"
      ]
     },
     "execution_count": 5,
     "metadata": {},
     "output_type": "execute_result"
    }
   ],
   "source": [
    "all_sales_df.shape"
   ]
  },
  {
   "cell_type": "code",
   "execution_count": 6,
   "metadata": {},
   "outputs": [],
   "source": [
    "# all_sales_df['EASEMENT'].fillna(0, inplace = True)\n",
    "# all_sales_df['EASEMENT'].replace('E',1,inplace = True)\n",
    "# all_sales_df['EASEMENT'].replace(' ',0,inplace = True)\n",
    "# all_sales_df.EASEMENT.unique()"
   ]
  },
  {
   "cell_type": "code",
   "execution_count": 7,
   "metadata": {
    "scrolled": true
   },
   "outputs": [
    {
     "data": {
      "text/html": [
       "<div>\n",
       "<style scoped>\n",
       "    .dataframe tbody tr th:only-of-type {\n",
       "        vertical-align: middle;\n",
       "    }\n",
       "\n",
       "    .dataframe tbody tr th {\n",
       "        vertical-align: top;\n",
       "    }\n",
       "\n",
       "    .dataframe thead th {\n",
       "        text-align: right;\n",
       "    }\n",
       "</style>\n",
       "<table border=\"1\" class=\"dataframe\">\n",
       "  <thead>\n",
       "    <tr style=\"text-align: right;\">\n",
       "      <th></th>\n",
       "      <th>BOROUGH</th>\n",
       "      <th>NEIGHBORHOOD</th>\n",
       "      <th>BUILDING CLASS CATEGORY</th>\n",
       "      <th>BLOCK</th>\n",
       "      <th>ZIP CODE</th>\n",
       "      <th>RESIDENTIAL_UNITS</th>\n",
       "      <th>COMMERCIAL UNITS</th>\n",
       "      <th>TOTAL UNITS</th>\n",
       "      <th>LAND SQUARE FEET</th>\n",
       "      <th>GROSS SQUARE FEET</th>\n",
       "      <th>YEAR BUILT</th>\n",
       "      <th>TAX CLASS AT TIME OF SALE</th>\n",
       "      <th>BUILDING CLASS AT TIME OF SALE</th>\n",
       "      <th>SALE_PRICE</th>\n",
       "      <th>SALE DATE</th>\n",
       "    </tr>\n",
       "  </thead>\n",
       "  <tbody>\n",
       "    <tr>\n",
       "      <th>1</th>\n",
       "      <td>2</td>\n",
       "      <td>BATHGATE</td>\n",
       "      <td>01  ONE FAMILY HOMES</td>\n",
       "      <td>3046</td>\n",
       "      <td>10457.0</td>\n",
       "      <td>1</td>\n",
       "      <td>0</td>\n",
       "      <td>1</td>\n",
       "      <td>1964</td>\n",
       "      <td>1424</td>\n",
       "      <td>1899</td>\n",
       "      <td>1</td>\n",
       "      <td>A1</td>\n",
       "      <td>100</td>\n",
       "      <td>2009-04-28 00:00:00</td>\n",
       "    </tr>\n",
       "    <tr>\n",
       "      <th>2</th>\n",
       "      <td>2</td>\n",
       "      <td>BATHGATE</td>\n",
       "      <td>01  ONE FAMILY HOMES</td>\n",
       "      <td>3046</td>\n",
       "      <td>10457.0</td>\n",
       "      <td>1</td>\n",
       "      <td>0</td>\n",
       "      <td>1</td>\n",
       "      <td>1964</td>\n",
       "      <td>1424</td>\n",
       "      <td>1899</td>\n",
       "      <td>1</td>\n",
       "      <td>A1</td>\n",
       "      <td>100</td>\n",
       "      <td>2009-04-13 00:00:00</td>\n",
       "    </tr>\n",
       "    <tr>\n",
       "      <th>3</th>\n",
       "      <td>2</td>\n",
       "      <td>BATHGATE</td>\n",
       "      <td>01  ONE FAMILY HOMES</td>\n",
       "      <td>3048</td>\n",
       "      <td>10457.0</td>\n",
       "      <td>1</td>\n",
       "      <td>0</td>\n",
       "      <td>1</td>\n",
       "      <td>1768</td>\n",
       "      <td>1188</td>\n",
       "      <td>1901</td>\n",
       "      <td>1</td>\n",
       "      <td>A5</td>\n",
       "      <td>345752</td>\n",
       "      <td>2009-03-16 00:00:00</td>\n",
       "    </tr>\n",
       "    <tr>\n",
       "      <th>6</th>\n",
       "      <td>2</td>\n",
       "      <td>BATHGATE</td>\n",
       "      <td>02  TWO FAMILY HOMES</td>\n",
       "      <td>3030</td>\n",
       "      <td>10457.0</td>\n",
       "      <td>2</td>\n",
       "      <td>0</td>\n",
       "      <td>2</td>\n",
       "      <td>2352</td>\n",
       "      <td>1632</td>\n",
       "      <td>1899</td>\n",
       "      <td>1</td>\n",
       "      <td>B2</td>\n",
       "      <td>135000</td>\n",
       "      <td>2009-05-08 00:00:00</td>\n",
       "    </tr>\n",
       "    <tr>\n",
       "      <th>7</th>\n",
       "      <td>2</td>\n",
       "      <td>BATHGATE</td>\n",
       "      <td>02  TWO FAMILY HOMES</td>\n",
       "      <td>3030</td>\n",
       "      <td>10457.0</td>\n",
       "      <td>2</td>\n",
       "      <td>0</td>\n",
       "      <td>2</td>\n",
       "      <td>2444</td>\n",
       "      <td>2125</td>\n",
       "      <td>1899</td>\n",
       "      <td>1</td>\n",
       "      <td>B2</td>\n",
       "      <td>325000</td>\n",
       "      <td>2009-03-30 00:00:00</td>\n",
       "    </tr>\n",
       "  </tbody>\n",
       "</table>\n",
       "</div>"
      ],
      "text/plain": [
       "   BOROUGH               NEIGHBORHOOD  \\\n",
       "1        2  BATHGATE                    \n",
       "2        2  BATHGATE                    \n",
       "3        2  BATHGATE                    \n",
       "6        2  BATHGATE                    \n",
       "7        2  BATHGATE                    \n",
       "\n",
       "                        BUILDING CLASS CATEGORY  BLOCK  ZIP CODE  \\\n",
       "1  01  ONE FAMILY HOMES                           3046   10457.0   \n",
       "2  01  ONE FAMILY HOMES                           3046   10457.0   \n",
       "3  01  ONE FAMILY HOMES                           3048   10457.0   \n",
       "6  02  TWO FAMILY HOMES                           3030   10457.0   \n",
       "7  02  TWO FAMILY HOMES                           3030   10457.0   \n",
       "\n",
       "  RESIDENTIAL_UNITS COMMERCIAL UNITS TOTAL UNITS LAND SQUARE FEET  \\\n",
       "1                 1                0           1             1964   \n",
       "2                 1                0           1             1964   \n",
       "3                 1                0           1             1768   \n",
       "6                 2                0           2             2352   \n",
       "7                 2                0           2             2444   \n",
       "\n",
       "  GROSS SQUARE FEET YEAR BUILT  TAX CLASS AT TIME OF SALE  \\\n",
       "1              1424       1899                          1   \n",
       "2              1424       1899                          1   \n",
       "3              1188       1901                          1   \n",
       "6              1632       1899                          1   \n",
       "7              2125       1899                          1   \n",
       "\n",
       "  BUILDING CLASS AT TIME OF SALE SALE_PRICE            SALE DATE  \n",
       "1                             A1        100  2009-04-28 00:00:00  \n",
       "2                             A1        100  2009-04-13 00:00:00  \n",
       "3                             A5     345752  2009-03-16 00:00:00  \n",
       "6                             B2     135000  2009-05-08 00:00:00  \n",
       "7                             B2     325000  2009-03-30 00:00:00  "
      ]
     },
     "execution_count": 7,
     "metadata": {},
     "output_type": "execute_result"
    }
   ],
   "source": [
    "all_sales_df.head()"
   ]
  },
  {
   "cell_type": "code",
   "execution_count": 8,
   "metadata": {},
   "outputs": [
    {
     "name": "stdout",
     "output_type": "stream",
     "text": [
      "Index(['BOROUGH', 'NEIGHBORHOOD', 'BUILDING CLASS CATEGORY', 'BLOCK',\n",
      "       'ZIP CODE', 'RESIDENTIAL_UNITS', 'COMMERCIAL UNITS', 'TOTAL UNITS',\n",
      "       'LAND SQUARE FEET', 'GROSS SQUARE FEET', 'YEAR BUILT',\n",
      "       'TAX CLASS AT TIME OF SALE', 'BUILDING CLASS AT TIME OF SALE',\n",
      "       'SALE_PRICE', 'SALE DATE'],\n",
      "      dtype='object')\n"
     ]
    }
   ],
   "source": [
    "print(all_sales_df.columns)"
   ]
  },
  {
   "cell_type": "code",
   "execution_count": 9,
   "metadata": {},
   "outputs": [
    {
     "name": "stdout",
     "output_type": "stream",
     "text": [
      "BOROUGH :   0\n",
      "NEIGHBORHOOD :   0\n",
      "BUILDING CLASS CATEGORY :   0\n",
      "BLOCK :   0\n",
      "ZIP CODE :   0\n",
      "RESIDENTIAL_UNITS :   0\n",
      "COMMERCIAL UNITS :   0\n",
      "TOTAL UNITS :   0\n",
      "LAND SQUARE FEET :   0\n",
      "GROSS SQUARE FEET :   0\n",
      "YEAR BUILT :   0\n",
      "TAX CLASS AT TIME OF SALE :   0\n",
      "BUILDING CLASS AT TIME OF SALE :   0\n",
      "SALE_PRICE :   0\n",
      "SALE DATE :   0\n"
     ]
    }
   ],
   "source": [
    "for cname in all_sales_df.columns:\n",
    "    print(cname, ':  ' , all_sales_df[cname].isnull().sum())"
   ]
  },
  {
   "cell_type": "code",
   "execution_count": null,
   "metadata": {},
   "outputs": [],
   "source": []
  }
 ],
 "metadata": {
  "kernelspec": {
   "display_name": "Python 3",
   "language": "python",
   "name": "python3"
  },
  "language_info": {
   "codemirror_mode": {
    "name": "ipython",
    "version": 3
   },
   "file_extension": ".py",
   "mimetype": "text/x-python",
   "name": "python",
   "nbconvert_exporter": "python",
   "pygments_lexer": "ipython3",
   "version": "3.8.3"
  }
 },
 "nbformat": 4,
 "nbformat_minor": 4
}
