{
 "cells": [
  {
   "cell_type": "code",
   "execution_count": 1,
   "metadata": {},
   "outputs": [],
   "source": [
    "import numpy as np\n",
    "import pandas as pd\n",
    "import quandl\n",
    "import ta\n",
    "import finta\n",
    "import os\n",
    "import pathlib\n",
    "import shutil\n",
    "from sklearn.preprocessing import MinMaxScaler\n",
    "from matplotlib import pyplot as plt\n",
    "from PIL import Image\n",
    "import time"
   ]
  },
  {
   "cell_type": "code",
   "execution_count": 2,
   "metadata": {},
   "outputs": [],
   "source": [
    "training_directory = os.path.join(os.getcwd(), 'train')\n",
    "test_directory = os.path.join(os.getcwd(), 'test')\n",
    "WINDOW_LOOK_AHEAD = 5"
   ]
  },
  {
   "cell_type": "code",
   "execution_count": 3,
   "metadata": {},
   "outputs": [],
   "source": [
    "equity_list = ['MMM','AXP','AAPL','BA','CAT','CVX','CSCO','KO','DIS','XOM','GE','GS','HD','IBM','INTC','JNJ','JPM','MCD','MRK','MSFT','NKE','PFE','PG','TRV','UTX','UNH','VZ','WMT']\n",
    "# equity_list = ['MMM','AXP','AAPL','BA']  #Short version for debugging\n",
    "feature_list = ['RSI','Williams','WMA','EMA','SMA','HMA','3EMA','CCI','CMO','MACD','PPO','ROC','CMFI','DMI','PSI']"
   ]
  },
  {
   "cell_type": "code",
   "execution_count": 4,
   "metadata": {},
   "outputs": [],
   "source": [
    "def get_eq_dict(eq_list):\n",
    "    equities_dfs = {}\n",
    "    for equity in eq_list:\n",
    "        print(equity)\n",
    "        output_df = pd.DataFrame()\n",
    "        temp_df = quandl.get(\"EOD/\"+equity, authtoken=\"6y4QKxqZxio2nBP3VSwZ\")\n",
    "        date_range_df = temp_df.loc['2001-11-01':'2017-2-28']\n",
    "        data_range_df_finta = date_range_df.copy() \n",
    "        data_range_df_finta.columns = data_range_df_finta.columns.str.lower()\n",
    "        output_df['RSI'] = ta.momentum.rsi(date_range_df['Close'])\n",
    "        output_df['Williams'] = ta.momentum.wr(date_range_df['High'],date_range_df['Low'],date_range_df['Close'])\n",
    "        output_df['WMA'] = ta.trend.wma_indicator(date_range_df['Close'])\n",
    "        output_df['EMA'] = ta.trend.ema_indicator(date_range_df['Close'])\n",
    "        output_df['SMA'] = ta.trend.sma_indicator(date_range_df['Close'])\n",
    "        output_df['HMA'] =  finta.TA.HMA(data_range_df_finta[['open','high','low','close']])\n",
    "        output_df['3EMA'] = ta.trend.trix(date_range_df['Close'])  #Tripple EMA\n",
    "        output_df['CCI'] = ta.trend.cci(date_range_df['High'],date_range_df['Low'],date_range_df['Close'])  \n",
    "        output_df['CMO'] =  finta.TA.CMO(data_range_df_finta[['open','high','low','close']])\n",
    "        output_df['MACD'] = ta.trend.macd(date_range_df['Close'])  \n",
    "        output_df['PPO'] = ta.momentum.PercentagePriceOscillator(date_range_df['Close']).ppo()\n",
    "        output_df['ROC'] = ta.momentum.ROCIndicator(date_range_df['Close']).roc()\n",
    "        output_df['CMFI'] = ta.volume.ChaikinMoneyFlowIndicator(date_range_df['High'],date_range_df['Low'],date_range_df['Close'], date_range_df['Volume']).chaikin_money_flow()\n",
    "        output_df['DMI'] =  ta.trend.ADXIndicator(date_range_df['High'],date_range_df['Low'],date_range_df['Close']).adx() # ADX is average direction movement index\n",
    "        output_df['PSI'] = ta.trend.PSARIndicator(date_range_df['High'],date_range_df['Low'],date_range_df['Close']).psar()\n",
    "        output_df['Close'] = date_range_df['Close']\n",
    "        output_df['Label'] = 'hold'\n",
    "        output_df = output_df.reset_index()\n",
    "        equities_dfs[equity] = output_df\n",
    "    return equities_dfs"
   ]
  },
  {
   "cell_type": "code",
   "execution_count": 5,
   "metadata": {},
   "outputs": [],
   "source": [
    "#Scales all features to be between 0 and 1\n",
    "def scale_and_get_scalers(df_dict,eq_list, features):\n",
    "    scalers = {}\n",
    "    for eq in eq_list:\n",
    "        scalers[eq] = MinMaxScaler()\n",
    "        scalers[eq].fit(df_dict[eq][features])\n",
    "        df_dict[eq][features] = scalers[eq].transform(df_dict[eq][features])\n",
    "    return scalers"
   ]
  },
  {
   "cell_type": "code",
   "execution_count": 6,
   "metadata": {},
   "outputs": [],
   "source": [
    "def label_data(df_dict,eq_list):\n",
    "    for eq in eq_list:\n",
    "        for i in range(len(df_dict[eq])):\n",
    "            # I went 2 months beyond at each end so we could have data for all dates\n",
    "            if i > 6 and i+5 < len(df_dict[eq]):\n",
    "                buy = True\n",
    "                sell = True\n",
    "                for j in range(1,6):\n",
    "                    if df_dict[eq].loc[i-j,'Close'] <= df_dict[eq].loc[i,'Close'] or df_dict[eq].loc[i+j,'Close'] <= df_dict[eq].loc[i,'Close']:\n",
    "                        sell = False\n",
    "                    if df_dict[eq].loc[i-j,'Close'] >= df_dict[eq].loc[i,'Close'] or df_dict[eq].loc[i+j,'Close'] >= df_dict[eq].loc[i,'Close']:\n",
    "                        buy = False\n",
    "                if buy == True:\n",
    "                    df_dict[eq].loc[i,'Label'] = 'buy'\n",
    "                elif sell == True:\n",
    "                    df_dict[eq].loc[i,'Label'] = 'sell'\n",
    "                else:\n",
    "                    df_dict[eq].loc[i,'Label'] = 'hold'"
   ]
  },
  {
   "cell_type": "code",
   "execution_count": 7,
   "metadata": {},
   "outputs": [],
   "source": [
    "#This may need to get changed later, I'm making it up as I go\n",
    "def gen_training_data(df_dict,eq_list,start, end, features, data_dir):\n",
    "    if os.path.exists(data_dir):\n",
    "        shutil.rmtree(data_dir)\n",
    "    os.makedirs(data_dir)\n",
    "    for eq in eq_list:\n",
    "        os.makedirs(os.path.join(data_dir,eq))\n",
    "        os.makedirs(os.path.join(data_dir,eq,'buy'))\n",
    "        os.makedirs(os.path.join(data_dir,eq,'hold'))\n",
    "        os.makedirs(os.path.join(data_dir,eq,'sell'))\n",
    "    for eq in eq_list:\n",
    "        #This needs to be modified.  I used 10 to account for days off and weekends but it can change so need to do it by rows\n",
    "        #Find a way to check how to do that\n",
    "        train_df = pd.DataFrame(df_dict[eq].loc[pd.to_datetime(start)- pd.DateOffset(days=10):end])\n",
    "        train_df = train_df.reset_index()\n",
    "        for i in range(len(train_df)):\n",
    "            #Need to skip first 14 day as they don't have enough data to make the image\n",
    "            if i > 14:\n",
    "                np_im = train_df.loc[i-14:i,features].to_numpy()\n",
    "#                 np_im = (np_im * 255.0).astype(int)\n",
    "                img = Image.fromarray(np.uint8(np_im*255))\n",
    "#                 img = Image.fromarray(np_im)\n",
    "#                 if i == 105:\n",
    "#                     print(train_df.loc[i-14:i,features].to_numpy())\n",
    "#                     print(np_im.shape)\n",
    "#                     print(np_im)\n",
    "                if train_df.loc[i,'Label'] == 'buy':\n",
    "                    img.save(os.path.join(data_dir,eq,'buy', str(eq) + str(i)  +'.png'))                    \n",
    "                elif train_df.loc[i,'Label'] == 'sell':\n",
    "                    img.save(os.path.join(data_dir,eq,'sell', str(eq) + str(i)  +'.png'))                    \n",
    "                else:\n",
    "                    img.save(os.path.join(data_dir,eq,'hold', str(eq) + str(i)  +'.png')) "
   ]
  },
  {
   "cell_type": "code",
   "execution_count": null,
   "metadata": {},
   "outputs": [],
   "source": []
  },
  {
   "cell_type": "code",
   "execution_count": 8,
   "metadata": {},
   "outputs": [
    {
     "name": "stdout",
     "output_type": "stream",
     "text": [
      "MMM\n"
     ]
    },
    {
     "name": "stderr",
     "output_type": "stream",
     "text": [
      "C:\\Users\\Will\\anaconda3\\lib\\site-packages\\ta\\trend.py:643: RuntimeWarning: invalid value encountered in double_scalars\n",
      "  dip[i] = 100 * (self._dip[i]/self._trs[i])\n",
      "C:\\Users\\Will\\anaconda3\\lib\\site-packages\\ta\\trend.py:647: RuntimeWarning: invalid value encountered in double_scalars\n",
      "  din[i] = 100 * (self._din[i]/self._trs[i])\n"
     ]
    },
    {
     "name": "stdout",
     "output_type": "stream",
     "text": [
      "AXP\n",
      "AAPL\n",
      "BA\n",
      "CAT\n",
      "CVX\n",
      "CSCO\n",
      "KO\n",
      "DIS\n",
      "XOM\n",
      "GE\n",
      "GS\n",
      "HD\n",
      "IBM\n",
      "INTC\n",
      "JNJ\n",
      "JPM\n",
      "MCD\n",
      "MRK\n",
      "MSFT\n",
      "NKE\n",
      "PFE\n",
      "PG\n",
      "TRV\n",
      "UTX\n",
      "UNH\n",
      "VZ\n",
      "WMT\n",
      "154.012051820755\n"
     ]
    }
   ],
   "source": [
    "start_t = time.time()\n",
    "equities_dfs = get_eq_dict(equity_list)\n",
    "print(time.time()-start_t)\n",
    "scaler = scale_and_get_scalers(equities_dfs,equity_list,feature_list)\n",
    "label_data(equities_dfs,equity_list)\n",
    "for eq in equity_list:\n",
    "    equities_dfs[eq] = equities_dfs[eq].set_index('Date')"
   ]
  },
  {
   "cell_type": "code",
   "execution_count": null,
   "metadata": {},
   "outputs": [],
   "source": [
    "start_time = time.time()\n",
    "gen_training_data(equities_dfs,equity_list,'2002-01-01','2006-12-31',feature_list,training_directory)\n",
    "print(time.time()-start_time)"
   ]
  },
  {
   "cell_type": "code",
   "execution_count": null,
   "metadata": {},
   "outputs": [],
   "source": []
  },
  {
   "cell_type": "code",
   "execution_count": null,
   "metadata": {},
   "outputs": [],
   "source": []
  }
 ],
 "metadata": {
  "kernelspec": {
   "display_name": "Python 3",
   "language": "python",
   "name": "python3"
  },
  "language_info": {
   "codemirror_mode": {
    "name": "ipython",
    "version": 3
   },
   "file_extension": ".py",
   "mimetype": "text/x-python",
   "name": "python",
   "nbconvert_exporter": "python",
   "pygments_lexer": "ipython3",
   "version": "3.8.3"
  }
 },
 "nbformat": 4,
 "nbformat_minor": 4
}
